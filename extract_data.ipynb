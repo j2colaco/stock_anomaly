{
 "cells": [
  {
   "cell_type": "code",
   "execution_count": 1,
   "metadata": {},
   "outputs": [],
   "source": [
    "import pandas as pd\n",
    "\n",
    "# Initial way I used to get stock data\n",
    "from pandas_datareader import data\n",
    "\n",
    "import datetime as dt"
   ]
  },
  {
   "cell_type": "code",
   "execution_count": 2,
   "metadata": {},
   "outputs": [],
   "source": [
    "end_date=dt.datetime.today().date()\n",
    "start_date = dt.date(2018, 9, 29)"
   ]
  },
  {
   "cell_type": "code",
   "execution_count": 3,
   "metadata": {},
   "outputs": [],
   "source": [
    "# def write_to_csv(data, filename):\n",
    "    \n",
    "#     data.to_csv('~/data/')"
   ]
  },
  {
   "cell_type": "code",
   "execution_count": 11,
   "metadata": {},
   "outputs": [],
   "source": [
    "# Purpose to extract stock data from yahoo\n",
    "def extract_stock_data(stock_symbols, start_date, end_date=dt.datetime.today().date()):\n",
    "    all_stock_data = pd.DataFrame()\n",
    "    for stock in stock_symbols:\n",
    "        print('Extracting data for:', stock)\n",
    "        try:\n",
    "            stock_data = data.DataReader(stock, 'yahoo', start_date, end_date)\n",
    "            stock_data['ticker'] = stock\n",
    "            all_stock_data = pd.concat([all_stock_data, stock_data], axis=0)\n",
    "        except:\n",
    "            print(stock, 'didnt work')\n",
    "            continue\n",
    "            \n",
    "    return all_stock_data"
   ]
  },
  {
   "cell_type": "code",
   "execution_count": 14,
   "metadata": {},
   "outputs": [
    {
     "name": "stdout",
     "output_type": "stream",
     "text": [
      "MFC.TO\n"
     ]
    }
   ],
   "source": [
    "test = extract_stock_data(['MFC.TO'], start_date)"
   ]
  },
  {
   "cell_type": "code",
   "execution_count": 15,
   "metadata": {},
   "outputs": [
    {
     "data": {
      "text/html": [
       "<div>\n",
       "<style scoped>\n",
       "    .dataframe tbody tr th:only-of-type {\n",
       "        vertical-align: middle;\n",
       "    }\n",
       "\n",
       "    .dataframe tbody tr th {\n",
       "        vertical-align: top;\n",
       "    }\n",
       "\n",
       "    .dataframe thead th {\n",
       "        text-align: right;\n",
       "    }\n",
       "</style>\n",
       "<table border=\"1\" class=\"dataframe\">\n",
       "  <thead>\n",
       "    <tr style=\"text-align: right;\">\n",
       "      <th></th>\n",
       "      <th>High</th>\n",
       "      <th>Low</th>\n",
       "      <th>Open</th>\n",
       "      <th>Close</th>\n",
       "      <th>Volume</th>\n",
       "      <th>Adj Close</th>\n",
       "      <th>ticker</th>\n",
       "    </tr>\n",
       "    <tr>\n",
       "      <th>Date</th>\n",
       "      <th></th>\n",
       "      <th></th>\n",
       "      <th></th>\n",
       "      <th></th>\n",
       "      <th></th>\n",
       "      <th></th>\n",
       "      <th></th>\n",
       "    </tr>\n",
       "  </thead>\n",
       "  <tbody>\n",
       "    <tr>\n",
       "      <th>2018-10-01</th>\n",
       "      <td>23.299999</td>\n",
       "      <td>22.920000</td>\n",
       "      <td>23.250000</td>\n",
       "      <td>23.059999</td>\n",
       "      <td>2489100.0</td>\n",
       "      <td>22.059675</td>\n",
       "      <td>MFC.TO</td>\n",
       "    </tr>\n",
       "    <tr>\n",
       "      <th>2018-10-02</th>\n",
       "      <td>23.040001</td>\n",
       "      <td>22.709999</td>\n",
       "      <td>23.000000</td>\n",
       "      <td>22.850000</td>\n",
       "      <td>3043200.0</td>\n",
       "      <td>21.858784</td>\n",
       "      <td>MFC.TO</td>\n",
       "    </tr>\n",
       "    <tr>\n",
       "      <th>2018-10-03</th>\n",
       "      <td>23.219999</td>\n",
       "      <td>22.750000</td>\n",
       "      <td>22.910000</td>\n",
       "      <td>23.190001</td>\n",
       "      <td>3025900.0</td>\n",
       "      <td>22.184036</td>\n",
       "      <td>MFC.TO</td>\n",
       "    </tr>\n",
       "    <tr>\n",
       "      <th>2018-10-04</th>\n",
       "      <td>23.250000</td>\n",
       "      <td>22.230000</td>\n",
       "      <td>23.200001</td>\n",
       "      <td>22.540001</td>\n",
       "      <td>15138800.0</td>\n",
       "      <td>21.562231</td>\n",
       "      <td>MFC.TO</td>\n",
       "    </tr>\n",
       "    <tr>\n",
       "      <th>2018-10-05</th>\n",
       "      <td>22.309999</td>\n",
       "      <td>21.580000</td>\n",
       "      <td>22.010000</td>\n",
       "      <td>21.860001</td>\n",
       "      <td>8723000.0</td>\n",
       "      <td>20.911728</td>\n",
       "      <td>MFC.TO</td>\n",
       "    </tr>\n",
       "  </tbody>\n",
       "</table>\n",
       "</div>"
      ],
      "text/plain": [
       "                 High        Low       Open      Close      Volume  Adj Close  \\\n",
       "Date                                                                            \n",
       "2018-10-01  23.299999  22.920000  23.250000  23.059999   2489100.0  22.059675   \n",
       "2018-10-02  23.040001  22.709999  23.000000  22.850000   3043200.0  21.858784   \n",
       "2018-10-03  23.219999  22.750000  22.910000  23.190001   3025900.0  22.184036   \n",
       "2018-10-04  23.250000  22.230000  23.200001  22.540001  15138800.0  21.562231   \n",
       "2018-10-05  22.309999  21.580000  22.010000  21.860001   8723000.0  20.911728   \n",
       "\n",
       "            ticker  \n",
       "Date                \n",
       "2018-10-01  MFC.TO  \n",
       "2018-10-02  MFC.TO  \n",
       "2018-10-03  MFC.TO  \n",
       "2018-10-04  MFC.TO  \n",
       "2018-10-05  MFC.TO  "
      ]
     },
     "execution_count": 15,
     "metadata": {},
     "output_type": "execute_result"
    }
   ],
   "source": [
    "test.head()"
   ]
  },
  {
   "cell_type": "code",
   "execution_count": null,
   "metadata": {},
   "outputs": [],
   "source": []
  }
 ],
 "metadata": {
  "kernelspec": {
   "display_name": "Python 3",
   "language": "python",
   "name": "python3"
  },
  "language_info": {
   "codemirror_mode": {
    "name": "ipython",
    "version": 3
   },
   "file_extension": ".py",
   "mimetype": "text/x-python",
   "name": "python",
   "nbconvert_exporter": "python",
   "pygments_lexer": "ipython3",
   "version": "3.7.3"
  }
 },
 "nbformat": 4,
 "nbformat_minor": 2
}
