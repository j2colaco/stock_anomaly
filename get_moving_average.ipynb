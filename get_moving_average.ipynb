{
 "cells": [
  {
   "cell_type": "code",
   "execution_count": 1,
   "metadata": {},
   "outputs": [],
   "source": [
    "import pandas as pd\n",
    "import datetime as dt\n",
    "\n",
    "# method to extract stock data\n",
    "from stock_functions import extract_stock_data, multiple_moving_averages, moving_average"
   ]
  },
  {
   "cell_type": "markdown",
   "metadata": {},
   "source": [
    "# Extract Stock Data"
   ]
  },
  {
   "cell_type": "code",
   "execution_count": 2,
   "metadata": {},
   "outputs": [
    {
     "name": "stdout",
     "output_type": "stream",
     "text": [
      "Extracting data for: MFC.TO\n",
      "Extracting data for: MSFT\n"
     ]
    },
    {
     "data": {
      "text/html": [
       "<div>\n",
       "<style scoped>\n",
       "    .dataframe tbody tr th:only-of-type {\n",
       "        vertical-align: middle;\n",
       "    }\n",
       "\n",
       "    .dataframe tbody tr th {\n",
       "        vertical-align: top;\n",
       "    }\n",
       "\n",
       "    .dataframe thead th {\n",
       "        text-align: right;\n",
       "    }\n",
       "</style>\n",
       "<table border=\"1\" class=\"dataframe\">\n",
       "  <thead>\n",
       "    <tr style=\"text-align: right;\">\n",
       "      <th></th>\n",
       "      <th>Date</th>\n",
       "      <th>High</th>\n",
       "      <th>Low</th>\n",
       "      <th>Open</th>\n",
       "      <th>Close</th>\n",
       "      <th>Volume</th>\n",
       "      <th>Adj Close</th>\n",
       "      <th>ticker</th>\n",
       "    </tr>\n",
       "  </thead>\n",
       "  <tbody>\n",
       "    <tr>\n",
       "      <th>0</th>\n",
       "      <td>2019-01-02</td>\n",
       "      <td>19.639999</td>\n",
       "      <td>18.940001</td>\n",
       "      <td>19.190001</td>\n",
       "      <td>19.420000</td>\n",
       "      <td>4945100.0</td>\n",
       "      <td>18.791014</td>\n",
       "      <td>MFC.TO</td>\n",
       "    </tr>\n",
       "    <tr>\n",
       "      <th>1</th>\n",
       "      <td>2019-01-03</td>\n",
       "      <td>19.480000</td>\n",
       "      <td>19.139999</td>\n",
       "      <td>19.350000</td>\n",
       "      <td>19.280001</td>\n",
       "      <td>4326500.0</td>\n",
       "      <td>18.655548</td>\n",
       "      <td>MFC.TO</td>\n",
       "    </tr>\n",
       "    <tr>\n",
       "      <th>2</th>\n",
       "      <td>2019-01-04</td>\n",
       "      <td>19.969999</td>\n",
       "      <td>19.530001</td>\n",
       "      <td>19.600000</td>\n",
       "      <td>19.879999</td>\n",
       "      <td>3448900.0</td>\n",
       "      <td>19.236113</td>\n",
       "      <td>MFC.TO</td>\n",
       "    </tr>\n",
       "    <tr>\n",
       "      <th>3</th>\n",
       "      <td>2019-01-07</td>\n",
       "      <td>20.010000</td>\n",
       "      <td>19.650000</td>\n",
       "      <td>20.010000</td>\n",
       "      <td>19.879999</td>\n",
       "      <td>5013400.0</td>\n",
       "      <td>19.236113</td>\n",
       "      <td>MFC.TO</td>\n",
       "    </tr>\n",
       "    <tr>\n",
       "      <th>4</th>\n",
       "      <td>2019-01-08</td>\n",
       "      <td>20.309999</td>\n",
       "      <td>19.930000</td>\n",
       "      <td>20.000000</td>\n",
       "      <td>20.200001</td>\n",
       "      <td>5091500.0</td>\n",
       "      <td>19.545750</td>\n",
       "      <td>MFC.TO</td>\n",
       "    </tr>\n",
       "  </tbody>\n",
       "</table>\n",
       "</div>"
      ],
      "text/plain": [
       "        Date       High        Low       Open      Close     Volume  \\\n",
       "0 2019-01-02  19.639999  18.940001  19.190001  19.420000  4945100.0   \n",
       "1 2019-01-03  19.480000  19.139999  19.350000  19.280001  4326500.0   \n",
       "2 2019-01-04  19.969999  19.530001  19.600000  19.879999  3448900.0   \n",
       "3 2019-01-07  20.010000  19.650000  20.010000  19.879999  5013400.0   \n",
       "4 2019-01-08  20.309999  19.930000  20.000000  20.200001  5091500.0   \n",
       "\n",
       "   Adj Close  ticker  \n",
       "0  18.791014  MFC.TO  \n",
       "1  18.655548  MFC.TO  \n",
       "2  19.236113  MFC.TO  \n",
       "3  19.236113  MFC.TO  \n",
       "4  19.545750  MFC.TO  "
      ]
     },
     "execution_count": 2,
     "metadata": {},
     "output_type": "execute_result"
    }
   ],
   "source": [
    "start_date = dt.date(2019, 1, 1)\n",
    "test = extract_stock_data(['MFC.TO', 'MSFT'], start_date).reset_index()\n",
    "test.head()"
   ]
  },
  {
   "cell_type": "markdown",
   "metadata": {},
   "source": [
    "# Get Moving Averages"
   ]
  },
  {
   "cell_type": "code",
   "execution_count": 3,
   "metadata": {},
   "outputs": [],
   "source": [
    "test = multiple_moving_averages(test, 'Close', 'ticker', 30)\n",
    "test.shape"
   ]
  },
  {
   "cell_type": "markdown",
   "metadata": {},
   "source": [
    "# Identify Anomalies"
   ]
  },
  {
   "cell_type": "code",
   "execution_count": null,
   "metadata": {},
   "outputs": [],
   "source": []
  }
 ],
 "metadata": {
  "kernelspec": {
   "display_name": "Python 3",
   "language": "python",
   "name": "python3"
  },
  "language_info": {
   "codemirror_mode": {
    "name": "ipython",
    "version": 3
   },
   "file_extension": ".py",
   "mimetype": "text/x-python",
   "name": "python",
   "nbconvert_exporter": "python",
   "pygments_lexer": "ipython3",
   "version": "3.7.3"
  }
 },
 "nbformat": 4,
 "nbformat_minor": 2
}
